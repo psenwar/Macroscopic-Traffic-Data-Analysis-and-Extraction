{
 "cells": [
  {
   "cell_type": "code",
   "execution_count": 2,
   "metadata": {},
   "outputs": [],
   "source": [
    "import cv2"
   ]
  },
  {
   "cell_type": "markdown",
   "metadata": {},
   "source": [
    "# Getting Image Pixel coordinates using Mouse"
   ]
  },
  {
   "cell_type": "code",
   "execution_count": 3,
   "metadata": {},
   "outputs": [],
   "source": [
    "def click_event(event, x, y, flags, params): \n",
    "  \n",
    "    # checking for left mouse clicks \n",
    "    if event == cv2.EVENT_LBUTTONDOWN: \n",
    "  \n",
    "        # displaying the coordinates \n",
    "        # on the Shell \n",
    "        print(x, ' ', y) \n",
    "  \n",
    "        # displaying the coordinates \n",
    "        # on the image window \n",
    "        font = cv2.FONT_HERSHEY_SIMPLEX \n",
    "        cv2.putText(img, str(x) + ',' +\n",
    "                    str(y), (x,y), font, \n",
    "                    1, (255, 0, 0), 2) \n",
    "        cv2.imshow('image', img) \n",
    "  \n",
    "    # checking for right mouse clicks      \n",
    "    if event==cv2.EVENT_RBUTTONDOWN: \n",
    "  \n",
    "        # displaying the coordinates \n",
    "        # on the Shell \n",
    "        print(x, ' ', y) \n",
    "  \n",
    "        # displaying the coordinates \n",
    "        # on the image window \n",
    "        font = cv2.FONT_HERSHEY_SIMPLEX \n",
    "        b = img[y, x, 0] \n",
    "        g = img[y, x, 1] \n",
    "        r = img[y, x, 2] \n",
    "        cv2.putText(img, str(b) + ',' +\n",
    "                    str(g) + ',' + str(r), \n",
    "                    (x,y), font, 1, \n",
    "                    (255, 255, 0), 2) \n",
    "        cv2.imshow('image', img) "
   ]
  },
  {
   "cell_type": "code",
   "execution_count": 4,
   "metadata": {},
   "outputs": [
    {
     "name": "stdout",
     "output_type": "stream",
     "text": [
      "203   198\n"
     ]
    }
   ],
   "source": [
    "# reading image pisel coordinates\n",
    "img = cv2.imread(r'C:\\Users\\Piyush\\Desktop\\cat.jpg', 1) \n",
    "cv2.imshow('image', img)\n",
    "cv2.setMouseCallback('image', click_event)\n",
    "cv2.waitKey(0)\n",
    "cv2.destroyAllWindows()"
   ]
  },
  {
   "cell_type": "code",
   "execution_count": 5,
   "metadata": {},
   "outputs": [],
   "source": [
    "import pandas as pd\n",
    "import numpy as np"
   ]
  },
  {
   "cell_type": "markdown",
   "metadata": {},
   "source": [
    "# Known Parameters - Camera Matrix, World GCP coordinates, Image GCP Coordinates, Distortion Coefficients"
   ]
  },
  {
   "cell_type": "code",
   "execution_count": 28,
   "metadata": {},
   "outputs": [
    {
     "name": "stdout",
     "output_type": "stream",
     "text": [
      "World Coordinated of GCps\n",
      "[[0.    0.    0.   ]\n",
      " [1.775 0.    0.   ]\n",
      " [1.775 4.62  0.   ]\n",
      " [0.    4.62  0.   ]]\n",
      "Image coordinate of GCPs in pixel\\image coordinate\n",
      "[[275. 204.]\n",
      " [331. 204.]\n",
      " [331. 308.]\n",
      " [275. 308.]]\n",
      "Camera Matrix\n",
      "[[517.00368817   0.         320.        ]\n",
      " [  0.         517.00368817 212.        ]\n",
      " [  0.           0.           1.        ]]\n",
      "Distortion Coefficients\n",
      "[[ 0.11286637]\n",
      " [-1.48779008]\n",
      " [ 0.        ]\n",
      " [ 0.        ]\n",
      " [ 2.3005719 ]]\n"
     ]
    }
   ],
   "source": [
    "gcp_world = np.array([(0.0, 0.0, 0.0),(1.775, 0.0, 0.0),(1.775, 4.620, 0.0),(0.0, 4.620, 0.0)])\n",
    "print(\"World Coordinated of GCps\")\n",
    "print(gcp_world)\n",
    "# Image coordinates of GCPs - using opencv python\n",
    "gcp_img = np.array([(275, 204),(331, 204),(331, 308),(275, 308)],dtype=\"double\")\n",
    "print(\"Image coordinate of GCPs in pixel\\image coordinate\")\n",
    "print(gcp_img)\n",
    "#Camera Matrix   - from zhangs method\n",
    "K = np.array([[517.0036881709533, 0, 320],[0, 517.0036881709533, 212],[0, 0, 1]])\n",
    "print(\"Camera Matrix\")\n",
    "print(K)\n",
    "# distortion coefficients\n",
    "diss_coef = np.array([[0.1128663679798094],[-1.487790079922432],[0],[0],[2.300571896761067]])\n",
    "#diss_coef = np.zeros((5,1))\n",
    "print(\"Distortion Coefficients\")\n",
    "print(diss_coef)"
   ]
  },
  {
   "cell_type": "markdown",
   "metadata": {},
   "source": [
    "# Finding Homography"
   ]
  },
  {
   "cell_type": "code",
   "execution_count": 11,
   "metadata": {},
   "outputs": [],
   "source": [
    "def findHomography(world3d,image2d,K,dist):\n",
    "    (success, rotation_vector, translation_vector) = cv2.solvePnP(world3d,image2d, K, dist, flags=cv2.SOLVEPNP_ITERATIVE)\n",
    "    print(\"rotation_vector\")\n",
    "    print(rotation_vector)\n",
    "    print(\"translation_vector\")\n",
    "    translation_vector\n",
    "    print(translation_vector)\n",
    "    rotation_matrix, jacobian = cv2.Rodrigues(rotation_vector)\n",
    "    print(\"Rotation Matrix\")\n",
    "    print(rotation_matrix)\n",
    "    extrinsic_matrix = cv2.hconcat((rotation_matrix, translation_vector))\n",
    "    print(\"Extrinisic parameter matrix\")\n",
    "    print(extrinsic_matrix)\n",
    "    projection_matrix = np.dot(K,extrinsic_matrix)\n",
    "    print(\"Projection Matrix\")\n",
    "    print(projection_matrix)\n",
    "    homography_matrix = np.delete(projection_matrix,2,axis = 1)\n",
    "    print(\"homography_matrix\")\n",
    "    print(homography_matrix)\n",
    "    return homography_matrix"
   ]
  },
  {
   "cell_type": "code",
   "execution_count": 12,
   "metadata": {},
   "outputs": [
    {
     "name": "stdout",
     "output_type": "stream",
     "text": [
      "World Coordinated of GCps\n",
      "[[0.    0.    0.   ]\n",
      " [1.775 0.    0.   ]\n",
      " [1.775 4.62  0.   ]\n",
      " [0.    4.62  0.   ]]\n",
      "Image coordinate of GCPs in pixel\\image coordinate\n",
      "[[275. 204.]\n",
      " [331. 204.]\n",
      " [331. 308.]\n",
      " [275. 308.]]\n",
      "Camera Matrix\n",
      "[[517.00368817   0.         320.        ]\n",
      " [  0.         517.00368817 212.        ]\n",
      " [  0.           0.           1.        ]]\n",
      "Distortion Coefficeints\n",
      "[[ 0.11286637]\n",
      " [-1.48779008]\n",
      " [ 0.        ]\n",
      " [ 0.        ]\n",
      " [ 2.3005719 ]]\n",
      "rotation_vector\n",
      "[[ 0.66147647]\n",
      " [-0.0279446 ]\n",
      " [ 0.01206996]]\n",
      "translation_vector\n",
      "[[-1.39449535]\n",
      " [-0.24541537]\n",
      " [15.47126946]]\n",
      "Rotation Matrix\n",
      "[[ 0.99955339 -0.02011656 -0.02209848]\n",
      " [ 0.0022975   0.78903231 -0.61434741]\n",
      " [ 0.02979497  0.61402226  0.78872614]]\n",
      "Extrinisic parameter matrix\n",
      "[[ 9.99553391e-01 -2.01165645e-02 -2.20984806e-02 -1.39449535e+00]\n",
      " [ 2.29750116e-03  7.89032309e-01 -6.14347407e-01 -2.45415372e-01]\n",
      " [ 2.97949744e-02  6.14022262e-01  7.88726138e-01  1.54712695e+01]]\n",
      "Projection Matrix\n",
      "[[ 5.26307181e+02  1.86086786e+02  2.40967368e+02  4.22984699e+03]\n",
      " [ 7.50435115e+00  5.38105334e+02 -1.50409934e+02  3.15302847e+03]\n",
      " [ 2.97949744e-02  6.14022262e-01  7.88726138e-01  1.54712695e+01]]\n",
      "homography_matrix\n",
      "[[5.26307181e+02 1.86086786e+02 4.22984699e+03]\n",
      " [7.50435115e+00 5.38105334e+02 3.15302847e+03]\n",
      " [2.97949744e-02 6.14022262e-01 1.54712695e+01]]\n"
     ]
    }
   ],
   "source": [
    "homography_matrix = findHomography()"
   ]
  },
  {
   "cell_type": "markdown",
   "metadata": {},
   "source": [
    "# Finding 3d coordinate of a given 2d image coordinate"
   ]
  },
  {
   "cell_type": "code",
   "execution_count": 53,
   "metadata": {},
   "outputs": [],
   "source": [
    "def get3d(homography_matrix,image2d):\n",
    "    inverse_homography_matrix = np.linalg.inv(homography_matrix)\n",
    "    #print(\"inverse_homography_matrix \")\n",
    "    #print(inverse_homography_matrix) \n",
    "    world3d = np.dot(inverse_homography_matrix,image2d)\n",
    "    Z = world3d[2,0]\n",
    "    #print(\"Z\",  Z)\n",
    "    world3d = world3d/Z\n",
    "    return world3d"
   ]
  },
  {
   "cell_type": "code",
   "execution_count": 39,
   "metadata": {},
   "outputs": [
    {
     "data": {
      "text/plain": [
       "array([[275., 204.],\n",
       "       [331., 204.],\n",
       "       [331., 308.],\n",
       "       [275., 308.]])"
      ]
     },
     "execution_count": 39,
     "metadata": {},
     "output_type": "execute_result"
    }
   ],
   "source": [
    "gcp_img   # image pixel coordinates"
   ]
  },
  {
   "cell_type": "code",
   "execution_count": 44,
   "metadata": {},
   "outputs": [
    {
     "data": {
      "text/plain": [
       "array([[275., 204.,   1.],\n",
       "       [331., 204.,   1.],\n",
       "       [331., 308.,   1.],\n",
       "       [275., 308.,   1.]])"
      ]
     },
     "execution_count": 44,
     "metadata": {},
     "output_type": "execute_result"
    }
   ],
   "source": [
    "# converting to homogenous coordinates\n",
    "a = gcp_img\n",
    "b = np.ones((4,3))\n",
    "b[:,:-1] = a\n",
    "b"
   ]
  },
  {
   "cell_type": "code",
   "execution_count": 54,
   "metadata": {},
   "outputs": [
    {
     "data": {
      "text/plain": [
       "[array([[0.04752842],\n",
       "        [0.00737011],\n",
       "        [1.        ]]),\n",
       " array([[1.72558571e+00],\n",
       "        [1.57324836e-03],\n",
       "        [1.00000000e+00]]),\n",
       " array([[1.87927505],\n",
       "        [4.62844757],\n",
       "        [1.        ]]),\n",
       " array([[-0.10583623],\n",
       "        [ 4.61893402],\n",
       "        [ 1.        ]])]"
      ]
     },
     "execution_count": 54,
     "metadata": {},
     "output_type": "execute_result"
    }
   ],
   "source": [
    "N = 4\n",
    "tot3d = []\n",
    "for i in range(N):\n",
    "    image2d = b[i]\n",
    "    image2d = image2d.reshape(-1,1)\n",
    "    tot3d.append(get3d(homography_matrix,image2d))\n",
    "tot3d  # 3d coordinates calculated from homography"
   ]
  },
  {
   "cell_type": "code",
   "execution_count": 55,
   "metadata": {},
   "outputs": [
    {
     "data": {
      "text/plain": [
       "array([[0.   , 0.   , 0.   ],\n",
       "       [1.775, 0.   , 0.   ],\n",
       "       [1.775, 4.62 , 0.   ],\n",
       "       [0.   , 4.62 , 0.   ]])"
      ]
     },
     "execution_count": 55,
     "metadata": {},
     "output_type": "execute_result"
    }
   ],
   "source": [
    "gcp_world   # actual 3d coordinates"
   ]
  },
  {
   "cell_type": "code",
   "execution_count": null,
   "metadata": {},
   "outputs": [],
   "source": []
  }
 ],
 "metadata": {
  "kernelspec": {
   "display_name": "Python 3",
   "language": "python",
   "name": "python3"
  },
  "language_info": {
   "codemirror_mode": {
    "name": "ipython",
    "version": 3
   },
   "file_extension": ".py",
   "mimetype": "text/x-python",
   "name": "python",
   "nbconvert_exporter": "python",
   "pygments_lexer": "ipython3",
   "version": "3.7.6"
  }
 },
 "nbformat": 4,
 "nbformat_minor": 4
}
