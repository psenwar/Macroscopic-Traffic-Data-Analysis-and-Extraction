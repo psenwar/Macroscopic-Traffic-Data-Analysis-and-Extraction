{
 "cells": [
  {
   "cell_type": "code",
   "execution_count": 1,
   "metadata": {},
   "outputs": [],
   "source": [
    "import cv2\n",
    "import pandas as pd\n",
    "import numpy as np\n",
    "import matplotlib.pyplot as plt\n",
    "import mplcursors"
   ]
  },
  {
   "cell_type": "markdown",
   "metadata": {},
   "source": [
    "# Getting Image Pixel coordinates using Mouse"
   ]
  },
  {
   "cell_type": "code",
   "execution_count": 27,
   "metadata": {},
   "outputs": [],
   "source": [
    "import cv2\n",
    "from matplotlib import pyplot as plt\n",
    "import matplotlib \n",
    "%matplotlib qt\n",
    "\n",
    "# Acquire default dots per inch value of matplotlib\n",
    "dpi = matplotlib.rcParams['figure.dpi']\n",
    "\n",
    "img = cv2.imread(r'C:\\Users\\Piyush\\Desktop\\IITK_raw_image.png', 1)\n",
    "\n",
    "# Determine the figures size in inches to fit your image\n",
    "height, width, depth = img.shape\n",
    "figsize = width / float(dpi), height / float(dpi)\n",
    "\n",
    "plt.figure(figsize=figsize)\n",
    "plot = plt.imshow(img)\n",
    "plt.show()"
   ]
  },
  {
   "cell_type": "code",
   "execution_count": 3,
   "metadata": {},
   "outputs": [
    {
     "name": "stdout",
     "output_type": "stream",
     "text": [
      "Selected points: []\n",
      "Current list of points: [(3794, 6596)]\n",
      "Current list of points: [(3794, 6596), (3739, 6525)]\n",
      "Current list of points: [(3794, 6596), (3739, 6525), (3699, 6522)]\n",
      "Current list of points: [(3794, 6596), (3739, 6525), (3699, 6522), (3713, 6724)]\n"
     ]
    }
   ],
   "source": [
    "points = []\n",
    "\n",
    "cursor = mplcursors.cursor(plot, hover=False)\n",
    "@cursor.connect(\"add\")\n",
    "def cursor_clicked(sel):\n",
    "    # sel.annotation.set_visible(False)\n",
    "    sel.annotation.set_text(\n",
    "        f'Clicked on\\nx: {sel.target[0]:.2f} y: {sel.target[1]:.2f}\\nindex: {sel.target.index}')\n",
    "    points.append(sel.target.index)\n",
    "    print(\"Current list of points:\", points)\n",
    "\n",
    "plt.show()\n",
    "print(\"Selected points:\", points)"
   ]
  },
  {
   "cell_type": "code",
   "execution_count": 4,
   "metadata": {},
   "outputs": [
    {
     "data": {
      "text/plain": [
       "[(3794, 6596), (3739, 6525), (3699, 6522), (3713, 6724)]"
      ]
     },
     "execution_count": 4,
     "metadata": {},
     "output_type": "execute_result"
    }
   ],
   "source": [
    "#points = [(3795, 6597), (3738, 6524), (3699, 6522), (3712, 6724)]\n",
    "points"
   ]
  },
  {
   "cell_type": "code",
   "execution_count": 5,
   "metadata": {},
   "outputs": [
    {
     "data": {
      "text/plain": [
       "array([[3794., 6596.],\n",
       "       [3739., 6525.],\n",
       "       [3699., 6522.],\n",
       "       [3713., 6724.]])"
      ]
     },
     "execution_count": 5,
     "metadata": {},
     "output_type": "execute_result"
    }
   ],
   "source": [
    "pixel2d = np.array(points,dtype=\"double\")\n",
    "pixel2d"
   ]
  },
  {
   "cell_type": "markdown",
   "metadata": {},
   "source": [
    "# Known Parameters - Camera Matrix, World GCP coordinates, Image GCP Coordinates, Distortion Coefficients"
   ]
  },
  {
   "cell_type": "code",
   "execution_count": 6,
   "metadata": {},
   "outputs": [
    {
     "name": "stdout",
     "output_type": "stream",
     "text": [
      "World Coordinated of GCps\n",
      "[[ 423650.2 2932475.9       0. ]\n",
      " [ 423608.7 2932508.4       0. ]\n",
      " [ 423608.1 2932531.1       0. ]\n",
      " [ 423724.  2932523.1       0. ]]\n",
      "Image coordinate of GCPs in pixel\\image coordinate\n",
      "[[275. 204.]\n",
      " [331. 204.]\n",
      " [331. 308.]\n",
      " [275. 308.]]\n",
      "Camera Matrix\n",
      "[[517.00368817   0.         320.        ]\n",
      " [  0.         517.00368817 212.        ]\n",
      " [  0.           0.           1.        ]]\n",
      "Distortion Coefficients\n",
      "[[ 0.11286637]\n",
      " [-1.48779008]\n",
      " [ 0.        ]\n",
      " [ 0.        ]\n",
      " [ 2.3005719 ]]\n"
     ]
    }
   ],
   "source": [
    "# Put manually the known real world gcp points in the same order.\n",
    "gcp_world = np.array([(423650.2, 2932475.9,0),(423608.7, 2932508.4, 0.0),(423608.1, 2932531.1, 0.0),(423724.0, 2932523.1, 0.0)])\n",
    "#gcp_world = np.array([(0.0, 0.0, 0.0),(1.775, 0.0, 0.0),(1.775, 4.620, 0.0),(0.0, 4.620, 0.0)])\n",
    "print(\"World Coordinated of GCps\")\n",
    "print(gcp_world)\n",
    "\n",
    "# Image coordinates of GCPs - using opencv python\n",
    "gcp_img = pixel2d\n",
    "#gcp_img = np.array([(95, 264),(100, 539),(349, 259),(352, 535)],dtype=\"double\")\n",
    "gcp_img = np.array([(275, 204),(331, 204),(331, 308),(275, 308)],dtype=\"double\")\n",
    "print(\"Image coordinate of GCPs in pixel\\image coordinate\")\n",
    "print(gcp_img)\n",
    "\n",
    "#Camera Matrix   - from zhangs method\n",
    "K = np.array([[517.0036881709533, 0, 320],[0, 517.0036881709533, 212],[0, 0, 1]])\n",
    "print(\"Camera Matrix\")\n",
    "print(K)\n",
    "\n",
    "# distortion coefficients\n",
    "diss_coef = np.array([[0.1128663679798094],[-1.487790079922432],[0],[0],[2.300571896761067]])\n",
    "#diss_coef = np.zeros((5,1))\n",
    "print(\"Distortion Coefficients\")\n",
    "print(diss_coef)"
   ]
  },
  {
   "cell_type": "markdown",
   "metadata": {},
   "source": [
    "# Finding Homography"
   ]
  },
  {
   "cell_type": "code",
   "execution_count": 7,
   "metadata": {},
   "outputs": [],
   "source": [
    "def findHomography(world3d,image2d,K,dist):\n",
    "    (success, rotation_vector, translation_vector) = cv2.solvePnP(world3d,image2d, K, dist, flags=cv2.SOLVEPNP_ITERATIVE)\n",
    "    print(\"rotation_vector\")\n",
    "    print(rotation_vector)\n",
    "    \n",
    "    print(\"translation_vector\")\n",
    "    translation_vector\n",
    "    print(translation_vector)\n",
    "    \n",
    "    rotation_matrix, jacobian = cv2.Rodrigues(rotation_vector)\n",
    "    print(\"Rotation Matrix\")\n",
    "    print(rotation_matrix)\n",
    "    \n",
    "    extrinsic_matrix = cv2.hconcat((rotation_matrix, translation_vector))\n",
    "    print(\"Extrinisic parameter matrix\")\n",
    "    print(extrinsic_matrix)\n",
    "    \n",
    "    projection_matrix = np.dot(K,extrinsic_matrix)\n",
    "    print(\"Projection Matrix\")\n",
    "    print(projection_matrix)\n",
    "    \n",
    "    homography_matrix = np.delete(projection_matrix,2,axis = 1)\n",
    "    return homography_matrix"
   ]
  },
  {
   "cell_type": "code",
   "execution_count": 8,
   "metadata": {},
   "outputs": [
    {
     "name": "stdout",
     "output_type": "stream",
     "text": [
      "rotation_vector\n",
      "[[ 0.13833433]\n",
      " [-1.75740868]\n",
      " [-0.50497142]]\n",
      "translation_vector\n",
      "[[ -405605.36625477]\n",
      " [-2480012.16504066]\n",
      " [-1569100.78720331]]\n",
      "Rotation Matrix\n",
      "[[-0.25275807  0.17482189 -0.95160426]\n",
      " [-0.35700203  0.89728619  0.2596672 ]\n",
      " [ 0.89925687  0.40535763 -0.16438456]]\n",
      "Extrinisic parameter matrix\n",
      "[[-2.52758073e-01  1.74821888e-01 -9.51604258e-01 -4.05605366e+05]\n",
      " [-3.57002026e-01  8.97286186e-01  2.59667196e-01 -2.48001217e+06]\n",
      " [ 8.99256865e-01  4.05357629e-01 -1.64384560e-01 -1.56910079e+06]]\n",
      "Projection Matrix\n",
      "[[ 1.57085341e+02  2.20098002e+02 -5.44585970e+02 -7.11811722e+08]\n",
      " [ 6.07109104e+00  5.49836085e+02  9.93993714e+01 -1.61482480e+09]\n",
      " [ 8.99256865e-01  4.05357629e-01 -1.64384560e-01 -1.56910079e+06]]\n",
      "homography_matrix\n"
     ]
    },
    {
     "data": {
      "text/plain": [
       "array([[ 1.57085341e+02,  2.20098002e+02, -7.11811722e+08],\n",
       "       [ 6.07109104e+00,  5.49836085e+02, -1.61482480e+09],\n",
       "       [ 8.99256865e-01,  4.05357629e-01, -1.56910079e+06]])"
      ]
     },
     "execution_count": 8,
     "metadata": {},
     "output_type": "execute_result"
    }
   ],
   "source": [
    "homography_matrix = findHomography(gcp_world,gcp_img,K,diss_coef)\n",
    "print(\"homography_matrix\")\n",
    "homography_matrix"
   ]
  },
  {
   "cell_type": "markdown",
   "metadata": {},
   "source": [
    "# Finding 3d coordinate of a given 2d image coordinate"
   ]
  },
  {
   "cell_type": "code",
   "execution_count": 9,
   "metadata": {},
   "outputs": [],
   "source": [
    "def get3d(homography_matrix,image2d):\n",
    "    inverse_homography_matrix = np.linalg.inv(homography_matrix)\n",
    "    world3d = np.dot(inverse_homography_matrix,image2d)\n",
    "    Z = world3d[2,0]\n",
    "    world3d = world3d/Z\n",
    "    return world3d"
   ]
  },
  {
   "cell_type": "code",
   "execution_count": 10,
   "metadata": {},
   "outputs": [],
   "source": [
    "import cv2\n",
    "from matplotlib import pyplot as plt\n",
    "import matplotlib \n",
    "%matplotlib qt\n",
    "\n",
    "# Acquire default dots per inch value of matplotlib\n",
    "dpi = matplotlib.rcParams['figure.dpi']\n",
    "\n",
    "img = cv2.imread(r'C:\\Users\\Piyush\\Desktop\\IITK_raw_image.png', 1)\n",
    "\n",
    "# Determine the figures size in inches to fit your image\n",
    "height, width, depth = img.shape\n",
    "figsize = width / float(dpi), height / float(dpi)\n",
    "\n",
    "plt.figure(figsize=figsize)\n",
    "plot = plt.imshow(img)\n",
    "plt.show()"
   ]
  },
  {
   "cell_type": "code",
   "execution_count": 28,
   "metadata": {},
   "outputs": [
    {
     "name": "stdout",
     "output_type": "stream",
     "text": [
      "Selected points: []\n",
      "Current list of points: [(3820, 6528)]\n",
      "Current list of points: [(3820, 6528), (3713, 6724)]\n",
      "Current list of points: [(3820, 6528), (3713, 6724), (4216, 6352)]\n",
      "Current list of points: [(3820, 6528), (3713, 6724), (4216, 6352), (4168, 6447)]\n",
      "Current list of points: [(3820, 6528), (3713, 6724), (4216, 6352), (4168, 6447), (4148, 6249)]\n"
     ]
    }
   ],
   "source": [
    "test_points = []\n",
    "\n",
    "cursor = mplcursors.cursor(plot, hover=False)\n",
    "@cursor.connect(\"add\")\n",
    "def cursor_clicked(sel):\n",
    "    # sel.annotation.set_visible(False)\n",
    "    sel.annotation.set_text(\n",
    "        f'Clicked on\\nx: {sel.target[0]:.2f} y: {sel.target[1]:.2f}\\nindex: {sel.target.index}')\n",
    "    test_points.append(sel.target.index)\n",
    "    print(\"Current list of points:\", test_points)\n",
    "\n",
    "plt.show()\n",
    "print(\"Selected points:\", test_points)"
   ]
  },
  {
   "cell_type": "code",
   "execution_count": 29,
   "metadata": {},
   "outputs": [
    {
     "data": {
      "text/plain": [
       "[(3820, 6528), (3713, 6724), (4216, 6352), (4168, 6447), (4148, 6249)]"
      ]
     },
     "execution_count": 29,
     "metadata": {},
     "output_type": "execute_result"
    }
   ],
   "source": [
    " test_points"
   ]
  },
  {
   "cell_type": "code",
   "execution_count": 30,
   "metadata": {},
   "outputs": [
    {
     "name": "stdout",
     "output_type": "stream",
     "text": [
      "5\n"
     ]
    },
    {
     "data": {
      "text/plain": [
       "[(3820, 6528), (3713, 6724), (4216, 6352), (4168, 6447), (4148, 6249)]"
      ]
     },
     "execution_count": 30,
     "metadata": {},
     "output_type": "execute_result"
    }
   ],
   "source": [
    "# we took pixel coordinates of 3 points whose original coordinates are - (90,30),(90,20),(90,10)\n",
    "pixel_test2d = test_points\n",
    "tot_pts = len(pixel_test2d)\n",
    "print(tot_pts)\n",
    "pixel_test2d"
   ]
  },
  {
   "cell_type": "code",
   "execution_count": 31,
   "metadata": {},
   "outputs": [
    {
     "data": {
      "text/plain": [
       "array([[3820., 6528.],\n",
       "       [3713., 6724.],\n",
       "       [4216., 6352.],\n",
       "       [4168., 6447.],\n",
       "       [4148., 6249.]])"
      ]
     },
     "execution_count": 31,
     "metadata": {},
     "output_type": "execute_result"
    }
   ],
   "source": [
    "pixel_test2d = np.array(pixel_test2d,dtype=\"double\").reshape(tot_pts,2)\n",
    "pixel_test2d"
   ]
  },
  {
   "cell_type": "code",
   "execution_count": 32,
   "metadata": {},
   "outputs": [],
   "source": [
    "# test images\n",
    "test_img = pixel_test2d"
   ]
  },
  {
   "cell_type": "code",
   "execution_count": 33,
   "metadata": {},
   "outputs": [
    {
     "data": {
      "text/plain": [
       "array([[3.820e+03, 6.528e+03, 1.000e+00],\n",
       "       [3.713e+03, 6.724e+03, 1.000e+00],\n",
       "       [4.216e+03, 6.352e+03, 1.000e+00],\n",
       "       [4.168e+03, 6.447e+03, 1.000e+00],\n",
       "       [4.148e+03, 6.249e+03, 1.000e+00]])"
      ]
     },
     "execution_count": 33,
     "metadata": {},
     "output_type": "execute_result"
    }
   ],
   "source": [
    "# converting to homogenous coordinates\n",
    "a = test_img\n",
    "b = np.ones((tot_pts,3))\n",
    "b[:,:-1] = a\n",
    "b"
   ]
  },
  {
   "cell_type": "code",
   "execution_count": 34,
   "metadata": {},
   "outputs": [],
   "source": [
    "tot3d = []\n",
    "for i in range(tot_pts):\n",
    "    image2d = b[i]\n",
    "    image2d = image2d.reshape(-1,1)\n",
    "    tot3d.append(get3d(homography_matrix,image2d))"
   ]
  },
  {
   "cell_type": "code",
   "execution_count": 35,
   "metadata": {},
   "outputs": [],
   "source": [
    "#tot3d  # 3d coordinates calculated from homography"
   ]
  },
  {
   "cell_type": "code",
   "execution_count": 36,
   "metadata": {},
   "outputs": [
    {
     "data": {
      "text/plain": [
       "array([[4.23035733e+05, 2.93247778e+06, 1.00000000e+00],\n",
       "       [4.23024619e+05, 2.93250690e+06, 1.00000000e+00],\n",
       "       [4.23053744e+05, 2.93242870e+06, 1.00000000e+00],\n",
       "       [4.23050373e+05, 2.93243745e+06, 1.00000000e+00],\n",
       "       [4.23053962e+05, 2.93242889e+06, 1.00000000e+00]])"
      ]
     },
     "execution_count": 36,
     "metadata": {},
     "output_type": "execute_result"
    }
   ],
   "source": [
    "np.array(tot3d).reshape(tot_pts,3)   # original coordinates are - [[90,30],[90,20],[90,10]]"
   ]
  },
  {
   "cell_type": "code",
   "execution_count": null,
   "metadata": {},
   "outputs": [],
   "source": [
    "# Calculated - (423035.7,2932477.7),(423024.6,2932506.9),(423053.7,2932428.7),(423050.3,2932437.4),(4230539.6,2932428.8)\n",
    "# actual -     (423610.4,2932460.6),(423724,2932523.1),(423509.1,2932231.2),(423562.4,2932259.2),(423449.1,2932270.6)"
   ]
  },
  {
   "cell_type": "markdown",
   "metadata": {},
   "source": [
    "# Using Inbuilt findHomograaphy() method"
   ]
  },
  {
   "cell_type": "code",
   "execution_count": 39,
   "metadata": {},
   "outputs": [
    {
     "data": {
      "text/plain": [
       "array([[-1.64242881e-04, -8.17483636e-05,  3.09297996e+02],\n",
       "       [-1.97470024e-04, -1.39893860e-04,  4.93887186e+02],\n",
       "       [-6.27071735e-07, -2.50427414e-07,  1.00000000e+00]])"
      ]
     },
     "execution_count": 39,
     "metadata": {},
     "output_type": "execute_result"
    }
   ],
   "source": [
    "h, status = cv2.findHomography(gcp_world,gcp_img )\n",
    "h"
   ]
  },
  {
   "cell_type": "code",
   "execution_count": 40,
   "metadata": {},
   "outputs": [
    {
     "data": {
      "text/plain": [
       "array([[ 1.57085341e+02,  2.20098002e+02, -7.11811722e+08],\n",
       "       [ 6.07109104e+00,  5.49836085e+02, -1.61482480e+09],\n",
       "       [ 8.99256865e-01,  4.05357629e-01, -1.56910079e+06]])"
      ]
     },
     "execution_count": 40,
     "metadata": {},
     "output_type": "execute_result"
    }
   ],
   "source": [
    "homography_matrix"
   ]
  },
  {
   "cell_type": "code",
   "execution_count": 43,
   "metadata": {},
   "outputs": [],
   "source": [
    "N = tot_pts\n",
    "tot3d = []\n",
    "for i in range(N):\n",
    "    image2d = b[i]\n",
    "    image2d = image2d.reshape(-1,1)\n",
    "    tot3d.append(get3d(h,image2d))"
   ]
  },
  {
   "cell_type": "code",
   "execution_count": 44,
   "metadata": {},
   "outputs": [
    {
     "data": {
      "text/plain": [
       "array([[4.23550000e+05, 2.93260412e+06, 1.00000000e+00],\n",
       "       [4.23546558e+05, 2.93261299e+06, 1.00000000e+00],\n",
       "       [4.23555769e+05, 2.93258915e+06, 1.00000000e+00],\n",
       "       [4.23554718e+05, 2.93259185e+06, 1.00000000e+00],\n",
       "       [4.23555780e+05, 2.93258916e+06, 1.00000000e+00]])"
      ]
     },
     "execution_count": 44,
     "metadata": {},
     "output_type": "execute_result"
    }
   ],
   "source": [
    "np.array(tot3d).reshape(tot_pts,3)    # original coordinates are - [[90,30],[90,20],[90,10]]"
   ]
  },
  {
   "cell_type": "code",
   "execution_count": null,
   "metadata": {},
   "outputs": [],
   "source": [
    "# calculated - (423550.0,2932604.1),(423546.5,2932612.9),(423555.7,2932589.1),(423554.7,2932591.8),(423555.7,2932589.1)\n",
    "# actual -     (423610.4,2932460.6),(423724,2932523.1),(423509.1,2932231.2),(423562.4,2932259.2),(423449.1,2932270.6)"
   ]
  }
 ],
 "metadata": {
  "kernelspec": {
   "display_name": "Python 3",
   "language": "python",
   "name": "python3"
  },
  "language_info": {
   "codemirror_mode": {
    "name": "ipython",
    "version": 3
   },
   "file_extension": ".py",
   "mimetype": "text/x-python",
   "name": "python",
   "nbconvert_exporter": "python",
   "pygments_lexer": "ipython3",
   "version": "3.7.6"
  }
 },
 "nbformat": 4,
 "nbformat_minor": 4
}
