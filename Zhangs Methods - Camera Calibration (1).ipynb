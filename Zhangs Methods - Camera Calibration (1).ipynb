{
 "cells": [
  {
   "cell_type": "markdown",
   "metadata": {},
   "source": [
    "# Camera Calibration - Finding Camera Matrix"
   ]
  },
  {
   "cell_type": "code",
   "execution_count": 1,
   "metadata": {},
   "outputs": [],
   "source": [
    "# Import required modules \n",
    "import cv2 \n",
    "import numpy as np \n",
    "import os \n",
    "import glob "
   ]
  },
  {
   "cell_type": "code",
   "execution_count": 2,
   "metadata": {},
   "outputs": [],
   "source": [
    "# Define the dimensions of checkerboard \n",
    "CHECKERBOARD = (6, 9) "
   ]
  },
  {
   "cell_type": "code",
   "execution_count": 3,
   "metadata": {},
   "outputs": [],
   "source": [
    "# stop the iteration when specified  accuracy, epsilon, is reached or specified number of iterations are completed. \n",
    "criteria = (cv2.TERM_CRITERIA_EPS + cv2.TERM_CRITERIA_MAX_ITER, 30, 0.001)"
   ]
  },
  {
   "cell_type": "code",
   "execution_count": 4,
   "metadata": {},
   "outputs": [
    {
     "name": "stdout",
     "output_type": "stream",
     "text": [
      "(1, 54, 3)\n"
     ]
    }
   ],
   "source": [
    "# for 3d points\n",
    "temp = np.zeros((1, CHECKERBOARD[0]  * CHECKERBOARD[1],  3), np.float32) \n",
    "print(temp.shape)  # simply stores the 3d coordinate of each point of our checkerboard"
   ]
  },
  {
   "cell_type": "code",
   "execution_count": 8,
   "metadata": {},
   "outputs": [
    {
     "data": {
      "text/plain": [
       "array([[[0., 0., 0.],\n",
       "        [1., 0., 0.],\n",
       "        [2., 0., 0.],\n",
       "        [3., 0., 0.],\n",
       "        [4., 0., 0.],\n",
       "        [5., 0., 0.],\n",
       "        [0., 1., 0.],\n",
       "        [1., 1., 0.],\n",
       "        [2., 1., 0.],\n",
       "        [3., 1., 0.],\n",
       "        [4., 1., 0.],\n",
       "        [5., 1., 0.],\n",
       "        [0., 2., 0.],\n",
       "        [1., 2., 0.],\n",
       "        [2., 2., 0.],\n",
       "        [3., 2., 0.],\n",
       "        [4., 2., 0.],\n",
       "        [5., 2., 0.],\n",
       "        [0., 3., 0.],\n",
       "        [1., 3., 0.],\n",
       "        [2., 3., 0.],\n",
       "        [3., 3., 0.],\n",
       "        [4., 3., 0.],\n",
       "        [5., 3., 0.],\n",
       "        [0., 4., 0.],\n",
       "        [1., 4., 0.],\n",
       "        [2., 4., 0.],\n",
       "        [3., 4., 0.],\n",
       "        [4., 4., 0.],\n",
       "        [5., 4., 0.],\n",
       "        [0., 5., 0.],\n",
       "        [1., 5., 0.],\n",
       "        [2., 5., 0.],\n",
       "        [3., 5., 0.],\n",
       "        [4., 5., 0.],\n",
       "        [5., 5., 0.],\n",
       "        [0., 6., 0.],\n",
       "        [1., 6., 0.],\n",
       "        [2., 6., 0.],\n",
       "        [3., 6., 0.],\n",
       "        [4., 6., 0.],\n",
       "        [5., 6., 0.],\n",
       "        [0., 7., 0.],\n",
       "        [1., 7., 0.],\n",
       "        [2., 7., 0.],\n",
       "        [3., 7., 0.],\n",
       "        [4., 7., 0.],\n",
       "        [5., 7., 0.],\n",
       "        [0., 8., 0.],\n",
       "        [1., 8., 0.],\n",
       "        [2., 8., 0.],\n",
       "        [3., 8., 0.],\n",
       "        [4., 8., 0.],\n",
       "        [5., 8., 0.]]], dtype=float32)"
      ]
     },
     "execution_count": 8,
     "metadata": {},
     "output_type": "execute_result"
    }
   ],
   "source": [
    "# Vector for 3D points \n",
    "threedpoints = [] \n",
    "# Vector for 2D points \n",
    "twodpoints = [] \n",
    "  \n",
    "#  3D points real world coordinates \n",
    "objectp3d = np.zeros((1, CHECKERBOARD[0]  * CHECKERBOARD[1],  3), np.float32) \n",
    "objectp3d[0, :, :2] = np.mgrid[0:CHECKERBOARD[0],  0:CHECKERBOARD[1]].T.reshape(-1, 2) \n",
    "prev_img_shape = None\n",
    "objectp3d  # this is our 3D checkerboard coordinate system "
   ]
  },
  {
   "cell_type": "code",
   "execution_count": 9,
   "metadata": {},
   "outputs": [],
   "source": [
    "import matplotlib.pyplot as plt"
   ]
  },
  {
   "cell_type": "code",
   "execution_count": 10,
   "metadata": {},
   "outputs": [],
   "source": [
    "IMAGE_FOLDER  = r\"C:\\Users\\Piyush\\Desktop\\Checkerboard - Images\"\n",
    "images = glob.glob(os.path.join(IMAGE_FOLDER,'*'))"
   ]
  },
  {
   "cell_type": "code",
   "execution_count": 11,
   "metadata": {},
   "outputs": [
    {
     "name": "stdout",
     "output_type": "stream",
     "text": [
      "(155, 200, 3)\n",
      "(200, 156, 3)\n",
      "(200, 156, 3)\n"
     ]
    }
   ],
   "source": [
    "#images = glob.glob(r'C:\\Users\\Piyush\\Desktop\\Checkerboard - Images') \n",
    "for filename in images: \n",
    "    image = cv2.imread(filename)\n",
    "    print(image.shape)\n",
    "    #plt.imshow(image)"
   ]
  },
  {
   "cell_type": "code",
   "execution_count": 12,
   "metadata": {},
   "outputs": [],
   "source": [
    "# Extracting path of individual image stored \n",
    "# in a given directory. Since no path is \n",
    "# specified, it will take current directory \n",
    "# jpg files alone \n",
    "#images = glob.glob(r'C:\\Users\\Piyush\\Desktop\\Checkerboard - Images') \n",
    "  \n",
    "for filename in images: \n",
    "    image = cv2.imread(filename) \n",
    "    #print(image.shape)\n",
    "    grayColor = cv2.cvtColor(image, cv2.COLOR_BGR2GRAY) \n",
    "  \n",
    "    # Find the chess board corners \n",
    "    # If desired number of corners are found in the image then ret = true \n",
    "    ret, corners = cv2.findChessboardCorners(grayColor, CHECKERBOARD, cv2.CALIB_CB_ADAPTIVE_THRESH  + cv2.CALIB_CB_FAST_CHECK + \n",
    "                                                                      cv2.CALIB_CB_NORMALIZE_IMAGE) \n",
    "  \n",
    "    # If desired number of corners can be detected then, \n",
    "    # refine the pixel coordinates and display \n",
    "    # them on the images of checker board \n",
    "    if ret == True: \n",
    "        threedpoints.append(objectp3d) \n",
    "  \n",
    "        # Refining pixel coordinates for given 2d points. \n",
    "        corners2 = cv2.cornerSubPix(grayColor, corners, (11, 11), (-1, -1), criteria) \n",
    "        #print(corners2.shape)\n",
    "        #print(corners2)\n",
    "        twodpoints.append(corners2) \n",
    "  \n",
    "        # Draw and display the corners \n",
    "        image = cv2.drawChessboardCorners(image,  CHECKERBOARD,  corners2, ret) \n",
    "  \n",
    "    cv2.imshow('img', image) \n",
    "    cv2.waitKey(0) \n",
    "  \n",
    "cv2.destroyAllWindows() \n",
    "  \n",
    "h, w = image.shape[:2] \n",
    "  \n"
   ]
  },
  {
   "cell_type": "code",
   "execution_count": 32,
   "metadata": {},
   "outputs": [
    {
     "name": "stdout",
     "output_type": "stream",
     "text": [
      " Camera matrix:\n",
      "[[20.10654304  0.         84.16362263]\n",
      " [ 0.         20.34239482 95.42267081]\n",
      " [ 0.          0.          1.        ]]\n"
     ]
    }
   ],
   "source": [
    "  \n",
    "# Perform camera calibration by passing the value of above found out 3D points (threedpoints) and its corresponding pixel \n",
    "# coordinates of the  detected corners (twodpoints) \n",
    "ret, matrix, distortion, r_vecs, t_vecs = cv2.calibrateCamera(threedpoints, twodpoints, grayColor.shape[::-1], None, None) \n",
    "  \n",
    "# Displayig required output \n",
    "print(\" Camera matrix:\") \n",
    "print(matrix) \n",
    " \n"
   ]
  },
  {
   "cell_type": "code",
   "execution_count": 31,
   "metadata": {},
   "outputs": [
    {
     "name": "stdout",
     "output_type": "stream",
     "text": [
      "\n",
      " Distortion coefficient:\n",
      "[[-9.40501496e-04  3.73198946e-05 -2.32754445e-03  3.95213785e-04\n",
      "  -6.01340412e-07]]\n"
     ]
    }
   ],
   "source": [
    "print(\"\\n Distortion coefficient:\") \n",
    "print(distortion)"
   ]
  },
  {
   "cell_type": "code",
   "execution_count": 24,
   "metadata": {},
   "outputs": [
    {
     "name": "stdout",
     "output_type": "stream",
     "text": [
      "(3, 3, 1)\n"
     ]
    }
   ],
   "source": [
    "rotation_matrix = np.array(r_vecs)\n",
    "print(rotation_matrix.shape)"
   ]
  },
  {
   "cell_type": "code",
   "execution_count": 27,
   "metadata": {},
   "outputs": [
    {
     "data": {
      "text/plain": [
       "array([[-0.04742568, -0.07882398, -0.01784273],\n",
       "       [ 0.02932197, -0.00961833,  0.04617962],\n",
       "       [ 1.50950267,  3.07805624, -0.07272072]])"
      ]
     },
     "execution_count": 27,
     "metadata": {},
     "output_type": "execute_result"
    }
   ],
   "source": [
    "rotation_matrix = rotation_matrix.reshape(3,3).T\n",
    "rotation_matrix"
   ]
  },
  {
   "cell_type": "code",
   "execution_count": 28,
   "metadata": {},
   "outputs": [
    {
     "name": "stdout",
     "output_type": "stream",
     "text": [
      "(3, 3, 1)\n"
     ]
    }
   ],
   "source": [
    "translation_matrix = np.array(t_vecs)\n",
    "print(translation_matrix.shape)"
   ]
  },
  {
   "cell_type": "code",
   "execution_count": 29,
   "metadata": {},
   "outputs": [
    {
     "data": {
      "text/plain": [
       "array([[ 4.63365547,  2.32806935, -3.16534453],\n",
       "       [-3.7646618 ,  3.99318851, -3.45998477],\n",
       "       [ 1.35562517,  1.36446905,  1.38547247]])"
      ]
     },
     "execution_count": 29,
     "metadata": {},
     "output_type": "execute_result"
    }
   ],
   "source": [
    "translation_matrix = translation_matrix.reshape(3,3).T\n",
    "translation_matrix"
   ]
  },
  {
   "cell_type": "markdown",
   "metadata": {},
   "source": [
    "# Main aim is to find Camera Matrix only!!!"
   ]
  },
  {
   "cell_type": "markdown",
   "metadata": {},
   "source": [
    "### These transalation and rotational matrix are with respect to chessboard 2d and 3d coordinate system not with respect to our original GCP 3d and 2d coordinates"
   ]
  }
 ],
 "metadata": {
  "kernelspec": {
   "display_name": "Python 3",
   "language": "python",
   "name": "python3"
  },
  "language_info": {
   "codemirror_mode": {
    "name": "ipython",
    "version": 3
   },
   "file_extension": ".py",
   "mimetype": "text/x-python",
   "name": "python",
   "nbconvert_exporter": "python",
   "pygments_lexer": "ipython3",
   "version": "3.7.6"
  }
 },
 "nbformat": 4,
 "nbformat_minor": 4
}
